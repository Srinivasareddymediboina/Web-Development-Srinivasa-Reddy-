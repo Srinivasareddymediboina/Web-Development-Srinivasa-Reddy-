{
 "cells": [
  {
   "cell_type": "markdown",
   "metadata": {},
   "source": [
    "# OOPS Concepts"
   ]
  },
  {
   "cell_type": "markdown",
   "metadata": {},
   "source": [
    "#### creating a calculater app using class and Functions"
   ]
  },
  {
   "cell_type": "code",
   "execution_count": null,
   "metadata": {},
   "outputs": [],
   "source": [
    "#Collections of variables and\n",
    "\"\"\"class Hi():\n",
    "\t\n",
    "\ta=10\n",
    "\twelcome to all\n",
    "\tb=\"oop's\"\n",
    "\tdef Hello():\n",
    "\t\tprint(\"good morning all\")\n",
    "print(dir(Hi))\"\"\"\n",
    "\n",
    "class Cal():\n",
    "    \"\"\"i am creating a calculater app:\"\"\"\n",
    "    def add(a,b):\n",
    "        return a+b\n",
    "    def sub(a,b):\n",
    "        return a-b\n",
    "    def mul(a,b):\n",
    "        return a*b\n",
    "    def div(a,b):\n",
    "        return a/b\n",
    "a=int(input(\"a value\"))\n",
    "b=int(input(\"b value\"))\n",
    "print(\"\\n 1.add \\n 2.sub \\n 3.mul \\n 4.div\")\n",
    "num=int(input(\"enter ur choice\"))\n",
    "if num==1:\n",
    "    print(Cal.add(a,b))\n",
    "elif num==2:\n",
    "    print(Cal.sub(a,b))\n",
    "elif num==3:\n",
    "    print(Cal.mul(a,b))\n",
    "elif num==4:\n",
    "    print(Cal.div(a,b))\n",
    "    \n",
    "        \n",
    "        \n",
    "\n",
    "    \n"
   ]
  },
  {
   "cell_type": "markdown",
   "metadata": {},
   "source": [
    "### Self Concept "
   ]
  },
  {
   "cell_type": "code",
   "execution_count": null,
   "metadata": {},
   "outputs": [],
   "source": [
    "class cal():\n",
    "    def __init__(self,a,b):\n",
    "        self.n1=a\n",
    "        self.n2=b\n",
    "        #print(self.n1,self.n2)\n",
    "    def display(self):\n",
    "        print(self.n1,self.n2)\n",
    "    def add(self):\n",
    "        return self.n1+self.n2\n",
    "    def sub(self):\n",
    "        return self.n1-self.n2\n",
    "    def mul(self):\n",
    "        return self.n1*self.n2\n",
    "    def div(self):\n",
    "        return self.n1/self.n2\n",
    "a=int(input(\"a value\"))\n",
    "b=int(input(\"b value\"))\n",
    "obj=cal(a,b)\n",
    "obj.display()\n",
    "print(obj.add())\n",
    "print(obj.sub())\n",
    "print(obj.mul())\n",
    "print(obj.div())\n"
   ]
  },
  {
   "cell_type": "markdown",
   "metadata": {},
   "source": [
    "### My Calculator Module calling"
   ]
  },
  {
   "cell_type": "code",
   "execution_count": null,
   "metadata": {},
   "outputs": [],
   "source": [
    "class cal():\n",
    "    def __init__(self,a,b):\n",
    "        self.n1=a\n",
    "        self.n2=b\n",
    "    def display(self):\n",
    "        print(self.n1,self.n2)\n",
    "    def add(self):\n",
    "        return self.n1+self.n2\n",
    "    def sub(self):\n",
    "        return self.n1-self.n2\n",
    "    def mul(self):\n",
    "        return self.n1*self.n2\n",
    "    def div(self):\n",
    "        return self.n1/self.n2\n"
   ]
  },
  {
   "cell_type": "markdown",
   "metadata": {},
   "source": [
    "#### Sample Modulue Calling"
   ]
  },
  {
   "cell_type": "code",
   "execution_count": null,
   "metadata": {},
   "outputs": [],
   "source": [
    "\"\"\"import MyCal as mc\n",
    "\n",
    "print(dir(mc.cal)\n",
    "\n",
    "#obj=mc.cal(1,23)\n",
    "#print(obj.add())\n",
    "\"\"\"\n",
    "from MyCal import cal\n",
    "\n",
    "c=cal(12,23)\n",
    "print(c.add())\n"
   ]
  },
  {
   "cell_type": "markdown",
   "metadata": {},
   "source": [
    "# Flask Introduction"
   ]
  },
  {
   "cell_type": "markdown",
   "metadata": {},
   "source": [
    "- Flask\n",
    "- -------\n",
    "\n",
    "- MVC-Model View Controller\n",
    "- M--->Database\n",
    "- V---->Html\n",
    "- C---->Main File\n",
    "\n",
    "- pip install flask\n",
    "\n",
    "- 1.Flask\n",
    "\t- a-->WSGI-web server gateway interface--->server\n",
    "\t- b-->Jinja2--->templetes\n",
    "\n",
    "- Installing Flask Command\n",
    "- `from flask import Flask`\n"
   ]
  },
  {
   "cell_type": "markdown",
   "metadata": {},
   "source": [
    "## Sample Flask Applications"
   ]
  },
  {
   "cell_type": "code",
   "execution_count": null,
   "metadata": {},
   "outputs": [],
   "source": [
    "from flask import Flask#1\n",
    "app=Flask(__name__)#3\n",
    "@app.route('/')\n",
    "def hello():\n",
    "    return \"welcome to MY NEW Flask Application\"\n",
    "@app.route('/he')\n",
    "def he():\n",
    "    s=\"Srinivas Reddy\"\n",
    "    return '<h1> Hi '+s,'</h1>'\n",
    "\n",
    "if __name__=='__main__':#2\n",
    "    app.run(debug=True)"
   ]
  },
  {
   "cell_type": "code",
   "execution_count": null,
   "metadata": {},
   "outputs": [],
   "source": []
  },
  {
   "cell_type": "code",
   "execution_count": null,
   "metadata": {},
   "outputs": [],
   "source": []
  },
  {
   "cell_type": "code",
   "execution_count": null,
   "metadata": {},
   "outputs": [],
   "source": []
  },
  {
   "cell_type": "code",
   "execution_count": null,
   "metadata": {},
   "outputs": [],
   "source": []
  },
  {
   "cell_type": "code",
   "execution_count": null,
   "metadata": {},
   "outputs": [],
   "source": []
  },
  {
   "cell_type": "code",
   "execution_count": null,
   "metadata": {},
   "outputs": [],
   "source": []
  },
  {
   "cell_type": "code",
   "execution_count": null,
   "metadata": {},
   "outputs": [],
   "source": []
  }
 ],
 "metadata": {
  "kernelspec": {
   "display_name": "Python 3",
   "language": "python",
   "name": "python3"
  },
  "language_info": {
   "codemirror_mode": {
    "name": "ipython",
    "version": 3
   },
   "file_extension": ".py",
   "mimetype": "text/x-python",
   "name": "python",
   "nbconvert_exporter": "python",
   "pygments_lexer": "ipython3",
   "version": "3.7.1"
  }
 },
 "nbformat": 4,
 "nbformat_minor": 2
}
